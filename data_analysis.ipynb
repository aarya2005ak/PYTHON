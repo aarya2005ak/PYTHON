{
  "nbformat": 4,
  "nbformat_minor": 0,
  "metadata": {
    "colab": {
      "provenance": [],
      "authorship_tag": "ABX9TyN2B+8wuij34NYtQyZHLvyF",
      "include_colab_link": true
    },
    "kernelspec": {
      "name": "python3",
      "display_name": "Python 3"
    },
    "language_info": {
      "name": "python"
    }
  },
  "cells": [
    {
      "cell_type": "markdown",
      "metadata": {
        "id": "view-in-github",
        "colab_type": "text"
      },
      "source": [
        "<a href=\"https://colab.research.google.com/github/aarya2005ak/PYTHON/blob/main/data_analysis.ipynb\" target=\"_parent\"><img src=\"https://colab.research.google.com/assets/colab-badge.svg\" alt=\"Open In Colab\"/></a>"
      ]
    },
    {
      "cell_type": "code",
      "execution_count": null,
      "metadata": {
        "id": "GWqZ9Hw0mVBp"
      },
      "outputs": [],
      "source": [
        "import pandas\n"
      ]
    },
    {
      "cell_type": "code",
      "source": [],
      "metadata": {
        "id": "U8DDcX2_48AR"
      },
      "execution_count": null,
      "outputs": []
    },
    {
      "cell_type": "code",
      "source": [
        "url=\"https://raw.githubusercontent.com/sohamglobal/datasets/refs/heads/main/NetflixOriginals.csv\"\n",
        "df=pandas.read_csv(url)\n",
        "print(df)\n"
      ],
      "metadata": {
        "colab": {
          "base_uri": "https://localhost:8080/"
        },
        "id": "Tx73zOG9tNn9",
        "outputId": "29a85235-896b-45e3-ebd2-b2ea1e34bc1f"
      },
      "execution_count": null,
      "outputs": [
        {
          "output_type": "stream",
          "name": "stdout",
          "text": [
            "                                           Title                  Genre  \\\n",
            "0                                Enter the Anime            Documentary   \n",
            "1                                    Dark Forces               Thriller   \n",
            "2                                        The App  Science fiction/Drama   \n",
            "3                                 The Open House        Horror thriller   \n",
            "4                                    Kaali Khuhi                Mystery   \n",
            "..                                           ...                    ...   \n",
            "579        Taylor Swift: Reputation Stadium Tour           Concert Film   \n",
            "580  Winter on Fire: Ukraine's Fight for Freedom            Documentary   \n",
            "581                      Springsteen on Broadway           One-man show   \n",
            "582    Emicida: AmarElo - It's All For Yesterday            Documentary   \n",
            "583     David Attenborough: A Life on Our Planet            Documentary   \n",
            "\n",
            "     Runtime  IMDB Score                  Language  \n",
            "0         58         2.5          English/Japanese  \n",
            "1         81         2.6                   Spanish  \n",
            "2         79         2.6                   Italian  \n",
            "3         94         3.2                   English  \n",
            "4         90         3.4                     Hindi  \n",
            "..       ...         ...                       ...  \n",
            "579      125         8.4                   English  \n",
            "580       91         8.4  English/Ukranian/Russian  \n",
            "581      153         8.5                   English  \n",
            "582       89         8.6                Portuguese  \n",
            "583       83         9.0                   English  \n",
            "\n",
            "[584 rows x 5 columns]\n"
          ]
        }
      ]
    },
    {
      "cell_type": "code",
      "source": [
        "most_runtime_film = df[['Title', 'Genre','Runtime']].sort_values(by='Runtime', ascending=False).head(10)\n",
        "print(most_runtime_film)"
      ],
      "metadata": {
        "colab": {
          "base_uri": "https://localhost:8080/"
        },
        "id": "J0tnEPXHHjdu",
        "outputId": "4be017c6-9ff0-47b3-9b94-406269daadc3"
      },
      "execution_count": null,
      "outputs": [
        {
          "output_type": "stream",
          "name": "stdout",
          "text": [
            "                               Title                  Genre  Runtime\n",
            "561                     The Irishman            Crime drama      209\n",
            "328                      Da 5 Bloods              War drama      155\n",
            "581          Springsteen on Broadway           One-man show      153\n",
            "247                         Citation                  Drama      151\n",
            "284               The Forest of Love                  Drama      151\n",
            "543                             Ludo  Anthology/Dark comedy      149\n",
            "7    The Last Days of American Crime    Heist film/Thriller      149\n",
            "509                   Raat Akeli Hai               Thriller      149\n",
            "194                 Army of the Dead           Zombie/Heist      148\n",
            "5                              Drive                 Action      147\n"
          ]
        }
      ]
    },
    {
      "cell_type": "code",
      "source": [
        "lowest_rated_show=df[['Title','Genre', 'IMDB Score']].sort_values('IMDB Score').head(10)\n",
        "print(lowest_rated_show)"
      ],
      "metadata": {
        "colab": {
          "base_uri": "https://localhost:8080/"
        },
        "id": "s8hEHoXiLu_g",
        "outputId": "3d8d54fd-bc0b-4359-c993-67323dee992f"
      },
      "execution_count": null,
      "outputs": [
        {
          "output_type": "stream",
          "name": "stdout",
          "text": [
            "                              Title                    Genre  IMDB Score\n",
            "0                   Enter the Anime              Documentary         2.5\n",
            "1                       Dark Forces                 Thriller         2.6\n",
            "2                           The App    Science fiction/Drama         2.6\n",
            "3                    The Open House          Horror thriller         3.2\n",
            "4                       Kaali Khuhi                  Mystery         3.4\n",
            "5                             Drive                   Action         3.5\n",
            "6                 Leyla Everlasting                   Comedy         3.7\n",
            "7   The Last Days of American Crime      Heist film/Thriller         3.7\n",
            "8                           Paradox  Musical/Western/Fantasy         3.9\n",
            "11                         The Call                    Drama         4.1\n"
          ]
        }
      ]
    },
    {
      "cell_type": "code",
      "source": [
        "most_rated_show=df[['Title','Genre', 'IMDB Score']].sort_values(by='IMDB Score',ascending=False).head(10)\n",
        "print(most_rated_show)"
      ],
      "metadata": {
        "colab": {
          "base_uri": "https://localhost:8080/"
        },
        "id": "3NVVME5WN2Em",
        "outputId": "a90908c8-3fd4-4e79-8e0d-759504e0b5f5"
      },
      "execution_count": null,
      "outputs": [
        {
          "output_type": "stream",
          "name": "stdout",
          "text": [
            "                                           Title         Genre  IMDB Score\n",
            "583     David Attenborough: A Life on Our Planet   Documentary         9.0\n",
            "582    Emicida: AmarElo - It's All For Yesterday   Documentary         8.6\n",
            "581                      Springsteen on Broadway  One-man show         8.5\n",
            "579        Taylor Swift: Reputation Stadium Tour  Concert Film         8.4\n",
            "578   Ben Platt: Live from Radio City Music Hall  Concert Film         8.4\n",
            "580  Winter on Fire: Ukraine's Fight for Freedom   Documentary         8.4\n",
            "576                      Cuba and the Cameraman    Documentary         8.3\n",
            "577                       Dancing with the Birds   Documentary         8.3\n",
            "575        The Three Deaths of Marisela Escobedo   Documentary         8.2\n",
            "574                                   Seaspiracy   Documentary         8.2\n"
          ]
        }
      ]
    }
  ]
}